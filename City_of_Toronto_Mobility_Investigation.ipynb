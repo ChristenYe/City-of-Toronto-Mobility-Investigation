{
  "cells": [
    {
      "cell_type": "code",
      "execution_count": null,
      "id": "978d8538",
      "metadata": {
        "id": "978d8538"
      },
      "outputs": [],
      "source": [
        "import pandas as pd\n",
        "from decimal import Decimal, ROUND_HALF_UP\n",
        "import matplotlib.pyplot as plt\n",
        "import numpy as np\n",
        "from sklearn.linear_model import LinearRegression"
      ]
    },
    {
      "cell_type": "code",
      "execution_count": null,
      "id": "3fe83477",
      "metadata": {
        "id": "3fe83477"
      },
      "outputs": [],
      "source": [
        "# Help function\n",
        "def round_up(number, num_digits):\n",
        "    if num_digits > 0:\n",
        "        res = round_up(number * 10, num_digits - 1) / 10\n",
        "    else:\n",
        "        res = Decimal(number * 10 ** num_digits).quantize(Decimal('1'), rounding=ROUND_HALF_UP) * 10 ** -num_digits\n",
        "    return res"
      ]
    },
    {
      "cell_type": "code",
      "execution_count": null,
      "id": "514cea5d",
      "metadata": {
        "id": "514cea5d",
        "outputId": "c13df2e7-80e4-4ab2-f277-c612e1e0b954"
      },
      "outputs": [
        {
          "name": "stdout",
          "output_type": "stream",
          "text": [
            "      location_id      lng      lat\n",
            "0            1146 -79.2463  43.7733\n",
            "3            3925 -79.4753  43.6368\n",
            "4            3926 -79.4858  43.6483\n",
            "5            3927 -79.3284  43.6592\n",
            "6            3928 -79.4292  43.6314\n",
            "...           ...      ...      ...\n",
            "5790        43136 -79.4533  43.7601\n",
            "5791        43137 -79.4536  43.7609\n",
            "5792        43138 -79.4539  43.7617\n",
            "5793        43139 -79.4543  43.7625\n",
            "5794        43140 -79.4187  43.7680\n",
            "\n",
            "[5570 rows x 3 columns]\n"
          ]
        }
      ],
      "source": [
        "# Read location, round lng and lat\n",
        "dfl = pd.read_csv(r'C:\\Users\\yeych\\Downloads\\locations.csv')\n",
        "dfl['lat'] = dfl['lat'].map(lambda x: '%.4f'%x)\n",
        "dfl['lat'] = pd.to_numeric(dfl['lat'])\n",
        "dfl['lng'] = dfl['lng'].map(lambda x: '%.4f'%x)\n",
        "dfl['lng'] = pd.to_numeric(dfl['lng'])\n",
        "\n",
        "# Keep centreline_type =2, this corresponds with an intersection\n",
        "dfl = dfl[dfl['centreline_type'] == 2]\n",
        "\n",
        "# Clean location dataset\n",
        "dfl = dfl[['location_id','lng','lat']]\n",
        "\n",
        "print(dfl)"
      ]
    },
    {
      "cell_type": "code",
      "execution_count": null,
      "id": "769dabee",
      "metadata": {
        "id": "769dabee",
        "outputId": "b036dce5-55b9-4d3a-e67a-30cd67d5a157"
      },
      "outputs": [
        {
          "name": "stdout",
          "output_type": "stream",
          "text": [
            "           _id   EventUniqueId OccurrenceDate      Month Day_of_Week  Year  \\\n",
            "0            1  GO-20141340438     2014-01-14    January     Tuesday  2014   \n",
            "1        66974  GO-20151260806     2015-07-24       July      Friday  2015   \n",
            "2        77850   GO-2015616846     2015-04-14      April     Tuesday  2015   \n",
            "3       130482   GO-2015819980     2015-05-17        May      Sunday  2015   \n",
            "4       132322  GO-20161196513     2016-07-08       July      Friday  2016   \n",
            "...        ...             ...            ...        ...         ...   ...   \n",
            "188189  488317  GO-20212437908     2021-12-18   December    Saturday  2021   \n",
            "188190  488593  GO-20212330287     2021-12-03   December      Friday  2021   \n",
            "188191  511936  GO-20218020889     2021-09-08  September   Wednesday  2021   \n",
            "188192  521005  GO-20218031822     2021-12-01   December   Wednesday  2021   \n",
            "188193  521341  GO-20218031723     2021-11-08   November      Monday  2021   \n",
            "\n",
            "        Hour Division Atom              Neighbourhood  Fatalities  \\\n",
            "0        8.0      D14   81     Trinity-Bellwoods (81)         NaN   \n",
            "1        7.0      D14   81     Trinity-Bellwoods (81)         NaN   \n",
            "2        9.0      D14   81     Trinity-Bellwoods (81)         NaN   \n",
            "3        1.0      D14   81     Trinity-Bellwoods (81)         NaN   \n",
            "4       16.0      D14   81     Trinity-Bellwoods (81)         NaN   \n",
            "...      ...      ...  ...                        ...         ...   \n",
            "188189  18.0      D12   23  Pelmo Park-Humberlea (23)         NaN   \n",
            "188190  13.0      D41  119     Wexford/Maryvale (119)         1.0   \n",
            "188191  10.0  D54/D55   59    Danforth East York (59)         NaN   \n",
            "188192  15.0      D53  104  Mount Pleasant West (104)         NaN   \n",
            "188193  16.0      D32   34        Bathurst Manor (34)         NaN   \n",
            "\n",
            "       Injury_Collisions FTR_Collisions PD_Collisions  \\\n",
            "0                    YES             NO            NO   \n",
            "1                     NO             NO           YES   \n",
            "2                    YES             NO            NO   \n",
            "3                     NO             NO           YES   \n",
            "4                    YES             NO            NO   \n",
            "...                  ...            ...           ...   \n",
            "188189                NO             NO           YES   \n",
            "188190                NO             NO            NO   \n",
            "188191                NO             NO           YES   \n",
            "188192                NO             NO           YES   \n",
            "188193                NO            YES            NO   \n",
            "\n",
            "                                   geometry      lng      lat  location_id  \n",
            "0       -79.4149080887603, 43.6504985877039 -79.4149  43.6505         9788  \n",
            "1       -79.4149080887603, 43.6504985877039 -79.4149  43.6505         9788  \n",
            "2       -79.4149080887603, 43.6504985877039 -79.4149  43.6505         9788  \n",
            "3       -79.4149080887603, 43.6504985877039 -79.4149  43.6505         9788  \n",
            "4       -79.4149080887603, 43.6504985877039 -79.4149  43.6505         9788  \n",
            "...                                     ...      ...      ...          ...  \n",
            "188189    -79.52728729549, 43.7077066555571 -79.5273  43.7077        30654  \n",
            "188190  -79.2996968483379, 43.7475451874743 -79.2997  43.7475        28398  \n",
            "188191   -79.342284020001, 43.6878346647268 -79.3423  43.6878         6466  \n",
            "188192   -79.3901968957524, 43.701986444509 -79.3902  43.7020        11686  \n",
            "188193  -79.4629796734786, 43.7641723979317 -79.4630  43.7642        43040  \n",
            "\n",
            "[188194 rows x 18 columns]\n"
          ]
        }
      ],
      "source": [
        "# Read collisions 2014-2021, use as y\n",
        "dfc = pd.read_csv(r'C:\\Users\\yeych\\Downloads\\Traffic Collisions - 4326.csv')\n",
        "dfc['OccurrenceDate'] = dfc['OccurrenceDate'].str.slice(0,10)\n",
        "dfc['OccurrenceDate'] = pd.to_datetime(dfc['OccurrenceDate'])\n",
        "\n",
        "# Create lng and lat column, keep 4 digits\n",
        "dfc['geometry']= dfc['geometry'].str.slice(34,-2)\n",
        "\n",
        "dfc['lng'] = dfc['geometry'].str.split(', ',expand=True)[0]\n",
        "dfc['lng'] = pd.to_numeric(dfc['lng'])\n",
        "dfc['lng'] = dfc['lng'].map(lambda x: '%.4f'%x)\n",
        "dfc['lng'] = pd.to_numeric(dfc['lng'])\n",
        "\n",
        "\n",
        "dfc['lat'] = dfc['geometry'].str.split(',',expand=True)[1]\n",
        "dfc['lat'] = pd.to_numeric(dfc['lat'])\n",
        "dfc['lat'] = dfc['lat'].map(lambda x: '%.4f'%x)\n",
        "dfc['lat'] = pd.to_numeric(dfc['lat'])\n",
        "\n",
        "# Drop extreme values\n",
        "dfc = dfc[(dfc['lng'] < 0) & (dfc['lat'] > 0)]\n",
        "\n",
        "# Create location id column\n",
        "dfc_id = pd.merge(dfc,dfl,on=['lng','lat'])\n",
        "\n",
        "print(dfc_id)"
      ]
    },
    {
      "cell_type": "code",
      "execution_count": null,
      "id": "527d7e2b",
      "metadata": {
        "id": "527d7e2b",
        "outputId": "5b417e23-c359-47d7-c48e-ffe2acb80521"
      },
      "outputs": [
        {
          "name": "stdout",
          "output_type": "stream",
          "text": [
            "             Collision_Number_at_Each_Intersection\n",
            "location_id                                       \n",
            "3927                                           288\n",
            "3931                                           276\n",
            "3932                                             6\n",
            "3933                                             5\n",
            "3934                                           125\n",
            "...                                            ...\n",
            "43092                                           32\n",
            "43128                                            5\n",
            "43136                                            2\n",
            "43137                                            3\n",
            "43140                                            5\n",
            "\n",
            "[3015 rows x 1 columns]\n"
          ]
        }
      ],
      "source": [
        "# Create a dataframe of collisions number for each location id from 2014 to 2021\n",
        "dfci = dfc_id.groupby(['location_id']).size().to_frame\\\n",
        "        ('Collision_Number_at_Each_Intersection')\n",
        "print(dfci)"
      ]
    },
    {
      "cell_type": "code",
      "execution_count": null,
      "id": "7cda6b65",
      "metadata": {
        "id": "7cda6b65",
        "outputId": "3383c613-1f7b-4771-944d-98e0c3d4b665"
      },
      "outputs": [
        {
          "name": "stdout",
          "output_type": "stream",
          "text": [
            "          _id  count_id count_date  location_id  \\\n",
            "0       82775     30565 2014-01-09         4517   \n",
            "1       82776     30565 2014-01-09         4517   \n",
            "2       82777     30565 2014-01-09         4517   \n",
            "3       82778     30565 2014-01-09         4517   \n",
            "4       82779     30565 2014-01-09         4517   \n",
            "...       ...       ...        ...          ...   \n",
            "206531  70143     44053 2021-12-15         4410   \n",
            "206532  70144     44053 2021-12-15         4410   \n",
            "206533  70145     44053 2021-12-15         4410   \n",
            "206534  70146     44053 2021-12-15         4410   \n",
            "206535  70147     44053 2021-12-15         4410   \n",
            "\n",
            "                                         location      lng      lat  \\\n",
            "0             DANFORTH AVE AT SIBLEY AVE (PX 178) -79.2927  43.6902   \n",
            "1             DANFORTH AVE AT SIBLEY AVE (PX 178) -79.2927  43.6902   \n",
            "2             DANFORTH AVE AT SIBLEY AVE (PX 178) -79.2927  43.6902   \n",
            "3             DANFORTH AVE AT SIBLEY AVE (PX 178) -79.2927  43.6902   \n",
            "4             DANFORTH AVE AT SIBLEY AVE (PX 178) -79.2927  43.6902   \n",
            "...                                           ...      ...      ...   \n",
            "206531  LAKE SHORE BLVD AT ROYAL YORK RD (PX 233) -79.4932  43.6037   \n",
            "206532  LAKE SHORE BLVD AT ROYAL YORK RD (PX 233) -79.4932  43.6037   \n",
            "206533  LAKE SHORE BLVD AT ROYAL YORK RD (PX 233) -79.4932  43.6037   \n",
            "206534  LAKE SHORE BLVD AT ROYAL YORK RD (PX 233) -79.4932  43.6037   \n",
            "206535  LAKE SHORE BLVD AT ROYAL YORK RD (PX 233) -79.4932  43.6037   \n",
            "\n",
            "        centreline_type  centreline_id     px  ... ex_peds wx_peds  nx_bike  \\\n",
            "0                   2.0     13459659.0  178.0  ...     4.0     1.0      0.0   \n",
            "1                   2.0     13459659.0  178.0  ...     5.0     2.0      0.0   \n",
            "2                   2.0     13459659.0  178.0  ...     2.0     0.0      0.0   \n",
            "3                   2.0     13459659.0  178.0  ...     4.0     4.0      0.0   \n",
            "4                   2.0     13459659.0  178.0  ...     3.0    11.0      0.0   \n",
            "...                 ...            ...    ...  ...     ...     ...      ...   \n",
            "206531              2.0     13470353.0  233.0  ...     1.0     5.0      0.0   \n",
            "206532              2.0     13470353.0  233.0  ...     0.0     5.0      0.0   \n",
            "206533              2.0     13470353.0  233.0  ...     1.0     4.0      1.0   \n",
            "206534              2.0     13470353.0  233.0  ...     0.0     2.0      0.0   \n",
            "206535              2.0     13470353.0  233.0  ...     0.0     1.0      1.0   \n",
            "\n",
            "        sx_bike  ex_bike  wx_bike  nx_other  sx_other  ex_other  wx_other  \n",
            "0           0.0      2.0      0.0       0.0       0.0       0.0       0.0  \n",
            "1           0.0      0.0      0.0       0.0       0.0       0.0       0.0  \n",
            "2           0.0      1.0      0.0       0.0       0.0       0.0       0.0  \n",
            "3           0.0      1.0      0.0       0.0       0.0       0.0       0.0  \n",
            "4           0.0      0.0      0.0       0.0       0.0       0.0       0.0  \n",
            "...         ...      ...      ...       ...       ...       ...       ...  \n",
            "206531      0.0      0.0      0.0       0.0       0.0       0.0       0.0  \n",
            "206532      0.0      0.0      1.0       0.0       0.0       0.0       0.0  \n",
            "206533      0.0      1.0      1.0       0.0       0.0       0.0       0.0  \n",
            "206534      0.0      2.0      2.0       0.0       0.0       0.0       0.0  \n",
            "206535      0.0      1.0      0.0       0.0       0.0       0.0       0.0  \n",
            "\n",
            "[202508 rows x 60 columns]\n"
          ]
        }
      ],
      "source": [
        "# Read TrafficVolume 2010-2019, drop 2010-2013\n",
        "dft1 = pd.read_csv(r'C:\\Users\\yeych\\Downloads\\raw-data-2010-2019.csv')\n",
        "dft1['count_date'] = pd.to_datetime(dft1['count_date'])\n",
        "dft1 = dft1[dft1['count_date'] >= '2014-01-01']\n",
        "\n",
        "# Read TrafficVolume 2020-2022, drop 2022\n",
        "dft2 = pd.read_csv(r'C:\\Users\\yeych\\Downloads\\raw-data-2020-2029.csv')\n",
        "dft2['count_date'] = pd.to_datetime(dft2['count_date'])\n",
        "dft2 = dft2[dft2['count_date'] < '2022-01-01']\n",
        "\n",
        "# Join two TrafficVolume tables, 2014-2022\n",
        "dft = pd.concat([dft1,dft2], ignore_index=True)\n",
        "\n",
        "# Keep centreline_type =2, this corresponds with an intersection\n",
        "dft = dft[dft['centreline_type'] == 2]\n",
        "\n",
        "# Keep 4 digits for lng and lat column\n",
        "dft['lng'] = dft['lng'].map(lambda x: round_up(x,4))\n",
        "dft['lng'] = pd.to_numeric(dft['lng'])\n",
        "dft['lat'] = dft['lat'].map(lambda x: round_up(x,4))\n",
        "dft['lat'] = pd.to_numeric(dft['lat'])\n",
        "\n",
        "print(dft)"
      ]
    },
    {
      "cell_type": "code",
      "execution_count": null,
      "id": "179c9a70",
      "metadata": {
        "id": "179c9a70",
        "outputId": "cb7b9389-1ef2-4be8-deec-6647200001ff"
      },
      "outputs": [
        {
          "name": "stdout",
          "output_type": "stream",
          "text": [
            "        location_id  car_total  truck_total  bus_total  pedestrian_total  \\\n",
            "0              4517      278.0         34.0       13.0               7.0   \n",
            "1              4517      329.0         39.0        7.0              13.0   \n",
            "2              4517      399.0         33.0       11.0               7.0   \n",
            "3              4517      403.0         32.0        9.0               9.0   \n",
            "4              4517      298.0         44.0       10.0              15.0   \n",
            "...             ...        ...          ...        ...               ...   \n",
            "206531         4410      257.0          1.0        3.0              14.0   \n",
            "206532         4410      282.0          6.0        2.0               8.0   \n",
            "206533         4410      299.0          4.0        7.0              23.0   \n",
            "206534         4410      240.0          0.0        3.0               5.0   \n",
            "206535         4410      279.0          4.0        4.0               7.0   \n",
            "\n",
            "        cyclist_total  other_total  \n",
            "0                 2.0          0.0  \n",
            "1                 0.0          0.0  \n",
            "2                 1.0          0.0  \n",
            "3                 1.0          0.0  \n",
            "4                 0.0          0.0  \n",
            "...               ...          ...  \n",
            "206531            0.0          0.0  \n",
            "206532            1.0          0.0  \n",
            "206533            3.0          0.0  \n",
            "206534            4.0          0.0  \n",
            "206535            2.0          0.0  \n",
            "\n",
            "[202508 rows x 7 columns]\n"
          ]
        }
      ],
      "source": [
        "# Sum car, truck, bus, pedestrian, cyclist, other for each observation\n",
        "dft['car_total'] = dft.iloc[:,12:24].sum(axis=1)\n",
        "dft['truck_total'] = dft.iloc[:,24:36].sum(axis=1)\n",
        "dft['bus_total'] = dft.iloc[:,36:48].sum(axis=1)\n",
        "dft['pedestrian_total'] = dft.iloc[:,48:52].sum(axis=1)\n",
        "dft['cyclist_total'] = dft.iloc[:,52:56].sum(axis=1)\n",
        "dft['other_total'] = dft.iloc[:,56:60].sum(axis=1)\n",
        "\n",
        "# Clean traffic volume dataset\n",
        "dft = dft[['location_id','car_total','truck_total','bus_total','pedestrian_total',\\\n",
        "          'cyclist_total','other_total']]\n",
        "print(dft)"
      ]
    },
    {
      "cell_type": "code",
      "execution_count": null,
      "id": "5950457f",
      "metadata": {
        "id": "5950457f",
        "outputId": "6816b51c-277a-407f-ac98-87c735ea2bdc"
      },
      "outputs": [
        {
          "data": {
            "text/html": [
              "<div>\n",
              "<style scoped>\n",
              "    .dataframe tbody tr th:only-of-type {\n",
              "        vertical-align: middle;\n",
              "    }\n",
              "\n",
              "    .dataframe tbody tr th {\n",
              "        vertical-align: top;\n",
              "    }\n",
              "\n",
              "    .dataframe thead th {\n",
              "        text-align: right;\n",
              "    }\n",
              "</style>\n",
              "<table border=\"1\" class=\"dataframe\">\n",
              "  <thead>\n",
              "    <tr style=\"text-align: right;\">\n",
              "      <th></th>\n",
              "      <th>location_id</th>\n",
              "      <th>car_total</th>\n",
              "      <th>truck_total</th>\n",
              "      <th>bus_total</th>\n",
              "      <th>pedestrian_total</th>\n",
              "      <th>cyclist_total</th>\n",
              "      <th>other_total</th>\n",
              "    </tr>\n",
              "  </thead>\n",
              "  <tbody>\n",
              "    <tr>\n",
              "      <th>0</th>\n",
              "      <td>1146</td>\n",
              "      <td>14349.0</td>\n",
              "      <td>277.0</td>\n",
              "      <td>513.0</td>\n",
              "      <td>168.0</td>\n",
              "      <td>1.0</td>\n",
              "      <td>0.0</td>\n",
              "    </tr>\n",
              "    <tr>\n",
              "      <th>1</th>\n",
              "      <td>3926</td>\n",
              "      <td>52490.0</td>\n",
              "      <td>1155.0</td>\n",
              "      <td>62.0</td>\n",
              "      <td>4479.0</td>\n",
              "      <td>325.0</td>\n",
              "      <td>563.0</td>\n",
              "    </tr>\n",
              "    <tr>\n",
              "      <th>2</th>\n",
              "      <td>3928</td>\n",
              "      <td>26437.0</td>\n",
              "      <td>1107.0</td>\n",
              "      <td>50.0</td>\n",
              "      <td>20.0</td>\n",
              "      <td>1.0</td>\n",
              "      <td>3355.0</td>\n",
              "    </tr>\n",
              "    <tr>\n",
              "      <th>3</th>\n",
              "      <td>3929</td>\n",
              "      <td>24384.0</td>\n",
              "      <td>583.0</td>\n",
              "      <td>45.0</td>\n",
              "      <td>535.0</td>\n",
              "      <td>181.0</td>\n",
              "      <td>15965.0</td>\n",
              "    </tr>\n",
              "    <tr>\n",
              "      <th>4</th>\n",
              "      <td>3930</td>\n",
              "      <td>23415.0</td>\n",
              "      <td>1053.0</td>\n",
              "      <td>60.0</td>\n",
              "      <td>189.0</td>\n",
              "      <td>153.0</td>\n",
              "      <td>0.0</td>\n",
              "    </tr>\n",
              "    <tr>\n",
              "      <th>...</th>\n",
              "      <td>...</td>\n",
              "      <td>...</td>\n",
              "      <td>...</td>\n",
              "      <td>...</td>\n",
              "      <td>...</td>\n",
              "      <td>...</td>\n",
              "      <td>...</td>\n",
              "    </tr>\n",
              "    <tr>\n",
              "      <th>3483</th>\n",
              "      <td>42437</td>\n",
              "      <td>1186.0</td>\n",
              "      <td>52.0</td>\n",
              "      <td>80.0</td>\n",
              "      <td>904.0</td>\n",
              "      <td>98.0</td>\n",
              "      <td>0.0</td>\n",
              "    </tr>\n",
              "    <tr>\n",
              "      <th>3484</th>\n",
              "      <td>42449</td>\n",
              "      <td>7332.0</td>\n",
              "      <td>192.0</td>\n",
              "      <td>38.0</td>\n",
              "      <td>257.0</td>\n",
              "      <td>90.0</td>\n",
              "      <td>0.0</td>\n",
              "    </tr>\n",
              "    <tr>\n",
              "      <th>3485</th>\n",
              "      <td>42521</td>\n",
              "      <td>11490.0</td>\n",
              "      <td>247.0</td>\n",
              "      <td>98.0</td>\n",
              "      <td>153.0</td>\n",
              "      <td>12.0</td>\n",
              "      <td>0.0</td>\n",
              "    </tr>\n",
              "    <tr>\n",
              "      <th>3486</th>\n",
              "      <td>42522</td>\n",
              "      <td>11219.0</td>\n",
              "      <td>237.0</td>\n",
              "      <td>97.0</td>\n",
              "      <td>168.0</td>\n",
              "      <td>11.0</td>\n",
              "      <td>0.0</td>\n",
              "    </tr>\n",
              "    <tr>\n",
              "      <th>3487</th>\n",
              "      <td>42528</td>\n",
              "      <td>18639.0</td>\n",
              "      <td>280.0</td>\n",
              "      <td>1017.0</td>\n",
              "      <td>474.0</td>\n",
              "      <td>9.0</td>\n",
              "      <td>0.0</td>\n",
              "    </tr>\n",
              "  </tbody>\n",
              "</table>\n",
              "<p>3488 rows × 7 columns</p>\n",
              "</div>"
            ],
            "text/plain": [
              "      location_id  car_total  truck_total  bus_total  pedestrian_total  \\\n",
              "0            1146    14349.0        277.0      513.0             168.0   \n",
              "1            3926    52490.0       1155.0       62.0            4479.0   \n",
              "2            3928    26437.0       1107.0       50.0              20.0   \n",
              "3            3929    24384.0        583.0       45.0             535.0   \n",
              "4            3930    23415.0       1053.0       60.0             189.0   \n",
              "...           ...        ...          ...        ...               ...   \n",
              "3483        42437     1186.0         52.0       80.0             904.0   \n",
              "3484        42449     7332.0        192.0       38.0             257.0   \n",
              "3485        42521    11490.0        247.0       98.0             153.0   \n",
              "3486        42522    11219.0        237.0       97.0             168.0   \n",
              "3487        42528    18639.0        280.0     1017.0             474.0   \n",
              "\n",
              "      cyclist_total  other_total  \n",
              "0               1.0          0.0  \n",
              "1             325.0        563.0  \n",
              "2               1.0       3355.0  \n",
              "3             181.0      15965.0  \n",
              "4             153.0          0.0  \n",
              "...             ...          ...  \n",
              "3483           98.0          0.0  \n",
              "3484           90.0          0.0  \n",
              "3485           12.0          0.0  \n",
              "3486           11.0          0.0  \n",
              "3487            9.0          0.0  \n",
              "\n",
              "[3488 rows x 7 columns]"
            ]
          },
          "execution_count": 8,
          "metadata": {},
          "output_type": "execute_result"
        }
      ],
      "source": [
        "# Sum car, truck, bus, pedestrian, cyclist, other for each location id from 2014 to 2021\n",
        "dftc = dft.groupby(by=['location_id'])['car_total'].sum().reset_index()\n",
        "dftt = dft.groupby(by=['location_id'])['truck_total'].sum().reset_index()\n",
        "dftb = dft.groupby(by=['location_id'])['bus_total'].sum().reset_index()\n",
        "dftp = dft.groupby(by=['location_id'])['pedestrian_total'].sum().reset_index()\n",
        "dftcy = dft.groupby(by=['location_id'])['cyclist_total'].sum().reset_index()\n",
        "dfto = dft.groupby(by=['location_id'])['other_total'].sum().reset_index()\n",
        "\n",
        "# Merge the sum dataframe\n",
        "df1 = pd.merge(dftc,dftt,on=['location_id'])\n",
        "df2 = pd.merge(df1,dftb,on=['location_id'])\n",
        "df3 = pd.merge(df2,dftp,on=['location_id'])\n",
        "df4 = pd.merge(df3,dftcy,on=['location_id'])\n",
        "df5 = pd.merge(df4,dfto,on=['location_id'])\n",
        "df5"
      ]
    },
    {
      "cell_type": "code",
      "execution_count": null,
      "id": "23278c9d",
      "metadata": {
        "id": "23278c9d"
      },
      "outputs": [],
      "source": [
        "# Final dataset\n",
        "df6 = pd.merge(df5,dfci,on=['location_id'])\n",
        "df6\n",
        "df6.to_csv(r'C:\\Users\\yeych\\Desktop\\lm.csv', index = False)"
      ]
    },
    {
      "cell_type": "code",
      "execution_count": null,
      "id": "fcaa9e59",
      "metadata": {
        "id": "fcaa9e59",
        "outputId": "7ea39ad6-7b4a-47db-8beb-f85c4184cd65"
      },
      "outputs": [
        {
          "data": {
            "text/html": [
              "<div>\n",
              "<style scoped>\n",
              "    .dataframe tbody tr th:only-of-type {\n",
              "        vertical-align: middle;\n",
              "    }\n",
              "\n",
              "    .dataframe tbody tr th {\n",
              "        vertical-align: top;\n",
              "    }\n",
              "\n",
              "    .dataframe thead th {\n",
              "        text-align: right;\n",
              "    }\n",
              "</style>\n",
              "<table border=\"1\" class=\"dataframe\">\n",
              "  <thead>\n",
              "    <tr style=\"text-align: right;\">\n",
              "      <th></th>\n",
              "      <th>0</th>\n",
              "    </tr>\n",
              "  </thead>\n",
              "  <tbody>\n",
              "    <tr>\n",
              "      <th>0</th>\n",
              "      <td>40597464.0</td>\n",
              "    </tr>\n",
              "    <tr>\n",
              "      <th>1</th>\n",
              "      <td>1653471.0</td>\n",
              "    </tr>\n",
              "    <tr>\n",
              "      <th>2</th>\n",
              "      <td>698180.0</td>\n",
              "    </tr>\n",
              "    <tr>\n",
              "      <th>3</th>\n",
              "      <td>8077310.0</td>\n",
              "    </tr>\n",
              "    <tr>\n",
              "      <th>4</th>\n",
              "      <td>896235.0</td>\n",
              "    </tr>\n",
              "    <tr>\n",
              "      <th>5</th>\n",
              "      <td>1753.0</td>\n",
              "    </tr>\n",
              "  </tbody>\n",
              "</table>\n",
              "</div>"
            ],
            "text/plain": [
              "            0\n",
              "0  40597464.0\n",
              "1   1653471.0\n",
              "2    698180.0\n",
              "3   8077310.0\n",
              "4    896235.0\n",
              "5      1753.0"
            ]
          },
          "execution_count": 10,
          "metadata": {},
          "output_type": "execute_result"
        }
      ],
      "source": [
        "# Traffic volume proportion\n",
        "x = np.array([df6['car_total'].sum(),df6['truck_total'].sum(),df6['bus_total'].sum(),\\\n",
        "             df6['pedestrian_total'].sum(),df6['cyclist_total'].sum(),df6['other_total'].sum()])\n",
        "dfx = pd.DataFrame(x)\n",
        "dfx\n",
        "#dfx.to_csv(r'C:\\Users\\yeych\\Desktop\\pie.csv', index = False)\n"
      ]
    },
    {
      "cell_type": "code",
      "execution_count": null,
      "id": "c44460e9",
      "metadata": {
        "id": "c44460e9",
        "outputId": "334083d1-72b9-42e7-e518-944126df858d"
      },
      "outputs": [
        {
          "data": {
            "image/png": "[encoded data removed]",
            "text/plain": [
              "<Figure size 432x288 with 1 Axes>"
            ]
          },
          "metadata": {
            "needs_background": "light"
          },
          "output_type": "display_data"
        }
      ],
      "source": [
        "# Explore the dependence between each factor and the response variable\n",
        "y = df6['Collision_Number_at_Each_Intersection']\n",
        "x1 = df6['car_total']\n",
        "plt.scatter(x1, y)\n",
        "plt.title('Scatter Plot of Collision Number Against Car Voulme at Intersections')\n",
        "plt.xlabel(\"Car_total\")\n",
        "plt.ylabel(\"Collision_Number\")\n",
        "plt.show()"
      ]
    },
    {
      "cell_type": "code",
      "execution_count": null,
      "id": "b12b7576",
      "metadata": {
        "id": "b12b7576",
        "outputId": "4c2a60f6-cb84-4a3a-8f4f-192a1a7f480f"
      },
      "outputs": [
        {
          "data": {
            "image/png": "[encoded data removed]",
            "text/plain": [
              "<Figure size 432x288 with 1 Axes>"
            ]
          },
          "metadata": {
            "needs_background": "light"
          },
          "output_type": "display_data"
        }
      ],
      "source": [
        "y = df6['Collision_Number_at_Each_Intersection']\n",
        "x2 = df6['truck_total']\n",
        "plt.scatter(x2, y)\n",
        "plt.title('Scatter Plot of Collision Number Against Truck Voulme at Intersections')\n",
        "plt.xlabel(\"Truck_total\")\n",
        "plt.ylabel(\"Collision_Number\")\n",
        "plt.show()"
      ]
    },
    {
      "cell_type": "code",
      "execution_count": null,
      "id": "d4513a4a",
      "metadata": {
        "id": "d4513a4a",
        "outputId": "e1baa359-e9fb-4b32-aa9c-cbfaaf70d608"
      },
      "outputs": [
        {
          "data": {
            "image/png": "[encoded data removed]",
            "text/plain": [
              "<Figure size 432x288 with 1 Axes>"
            ]
          },
          "metadata": {
            "needs_background": "light"
          },
          "output_type": "display_data"
        }
      ],
      "source": [
        "y = df6['Collision_Number_at_Each_Intersection']\n",
        "x3 = df6['bus_total']\n",
        "plt.scatter(x3, y)\n",
        "plt.title('Scatter Plot of Collision Number Against Bus Voulme at Intersections')\n",
        "plt.xlabel(\"Bus_total\")\n",
        "plt.ylabel(\"Collision_Number\")\n",
        "plt.show()"
      ]
    },
    {
      "cell_type": "code",
      "execution_count": null,
      "id": "f21140ff",
      "metadata": {
        "id": "f21140ff",
        "outputId": "4273e3c1-6dee-4c1e-eeba-7fa393813d7c"
      },
      "outputs": [
        {
          "data": {
            "image/png": "[encoded data removed]",
            "text/plain": [
              "<Figure size 432x288 with 1 Axes>"
            ]
          },
          "metadata": {
            "needs_background": "light"
          },
          "output_type": "display_data"
        }
      ],
      "source": [
        "y = df6['Collision_Number_at_Each_Intersection']\n",
        "x4 = df6['pedestrian_total']\n",
        "plt.scatter(x4, y)\n",
        "plt.title('Scatter Plot of Collision Number Against Pedestrian Voulme at Intersections')\n",
        "plt.xlabel(\"Pedestrian_total\")\n",
        "plt.ylabel(\"Collision_Number\")\n",
        "plt.show()"
      ]
    },
    {
      "cell_type": "code",
      "execution_count": null,
      "id": "915042a0",
      "metadata": {
        "id": "915042a0",
        "outputId": "9a75e661-69e4-4002-9a6d-74c9b6b8ba9d"
      },
      "outputs": [
        {
          "data": {
            "image/png": "[encoded data removed]",
            "text/plain": [
              "<Figure size 432x288 with 1 Axes>"
            ]
          },
          "metadata": {
            "needs_background": "light"
          },
          "output_type": "display_data"
        }
      ],
      "source": [
        "y = df6['Collision_Number_at_Each_Intersection']\n",
        "x5 = df6['cyclist_total']\n",
        "plt.scatter(x5, y)\n",
        "plt.title('Scatter Plot of Collision Number Against Cyclist Voulme at Intersections')\n",
        "plt.xlabel(\"Cyclist_total\")\n",
        "plt.ylabel(\"Collision_Number\")\n",
        "plt.show()"
      ]
    },
    {
      "cell_type": "code",
      "execution_count": null,
      "id": "83f76a56",
      "metadata": {
        "id": "83f76a56",
        "outputId": "c27573bc-0654-423e-ce86-58156efa764e"
      },
      "outputs": [
        {
          "data": {
            "image/png": "[encoded data removed]",
            "text/plain": [
              "<Figure size 432x288 with 1 Axes>"
            ]
          },
          "metadata": {
            "needs_background": "light"
          },
          "output_type": "display_data"
        }
      ],
      "source": [
        "y = df6['Collision_Number_at_Each_Intersection']\n",
        "x6 = df6['other_total']\n",
        "plt.scatter(x6, y)\n",
        "plt.title('Scatter Plot of Collision Number Against Other Voulme at Intersections')\n",
        "plt.xlabel(\"Other_total\")\n",
        "plt.ylabel(\"Collision_Number\")\n",
        "plt.show()"
      ]
    }
  ],
  "metadata": {
    "kernelspec": {
      "display_name": "Python 3",
      "language": "python",
      "name": "python3"
    },
    "language_info": {
      "codemirror_mode": {
        "name": "ipython",
        "version": 3
      },
      "file_extension": ".py",
      "mimetype": "text/x-python",
      "name": "python",
      "nbconvert_exporter": "python",
      "pygments_lexer": "ipython3",
      "version": "3.8.8"
    },
    "colab": {
      "provenance": []
    }
  },
  "nbformat": 4,
  "nbformat_minor": 5
}